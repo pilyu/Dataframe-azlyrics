{
 "cells": [
  {
   "cell_type": "code",
   "execution_count": 115,
   "id": "beba8cb3-a0ea-49cb-987b-02c6c31ea600",
   "metadata": {},
   "outputs": [],
   "source": [
    "import requests\n",
    "from bs4 import BeautifulSoup\n",
    "import pandas as pd"
   ]
  },
  {
   "cell_type": "code",
   "execution_count": 69,
   "id": "ad8d86a8-ffaa-48eb-ab70-b0974411b188",
   "metadata": {},
   "outputs": [
    {
     "data": {
      "text/plain": [
       "\"One more time One more time  One more time We're gonna celebrate Oh yeah, all right Don't stop the dancing  One more time We're gonna celebrate Oh yeah, all right Don't stop the dancing  One more time We're gonna celebrate Oh yeah, all right Don't stop the dancing  One more time We're gonna celebrate Oh yeah  One more time  One more time We're gonna celebrate Oh yeah, all right Don't stop the dancing  One more time We're gonna celebrate Oh yeah Don't stop the dancing  One more time  I'm just feelin' Celebration tonight Celebrate Don't wait too late No he don't stop You can't stop We're gonna celebrate  One more time One more time One more time  Celebration You know we're gonna do it right Tonight Hey! Just feelin' Music's got me feeling the need need Come on, all right We're gonna celebrate  One more time Celebrate and dance so free Music's got me feeling so free Celebrate and dance so free  One more time Music's got me feeling so free We're gonna celebrate Celebrate and dance so free  One more time Music's got me feeling so free We're gonna celebrate Celebrate and dance so free  One more time Music's got me feeling so free We're gonna celebrate Celebrate and dance so free  One more time Music's got me feeling so free We're gonna celebrate Celebrate and dance so free  One more time Music's got me feeling so free We're gonna celebrate Celebrate and dance so free  One more time Music's got me feeling so free We're gonna celebrate Celebrate and dance so free  One more time Music's got me feeling so free We're gonna celebrate Celebrate and dance so free  One more time Music's got me feeling so free We're gonna celebrate Celebrate and dance so free  One more time Music's got me feeling so free We're gonna celebrate  One more time Music's got me feeling so free We're gonna celebrate Celebrate and dance so free  One more time Music's got me feeling so free We're gonna celebrate Celebrate and dance so free  One more time Music's got me feeling so free We're gonna celebrate Celebrate and dance so free  One more time Music's got me feeling so free We're gonna celebrate One more time\""
      ]
     },
     "execution_count": 69,
     "metadata": {},
     "output_type": "execute_result"
    }
   ],
   "source": [
    "lyrics= document.find(\"div\", attrs={'class': 'col-xs-12 col-lg-8 text-center'}).find('div', attrs={'class': None}).text.strip().replace(\"\\n\", \" \")\n",
    "lyrics."
   ]
  },
  {
   "cell_type": "code",
   "execution_count": 63,
   "id": "fa20b654-9c1f-42c2-a04e-b1423159af0c",
   "metadata": {},
   "outputs": [
    {
     "data": {
      "text/plain": [
       "'One More Time'"
      ]
     },
     "execution_count": 63,
     "metadata": {},
     "output_type": "execute_result"
    }
   ],
   "source": [
    "title= document.find('div', attrs={'class':'col-xs-12 col-lg-8 text-center'}).find('h1').text.strip().replace('\" lyrics', '').replace('\"', '')\n",
    "title"
   ]
  },
  {
   "cell_type": "code",
   "execution_count": 65,
   "id": "be845b57-5ced-4ef6-ba54-0f9c659075dc",
   "metadata": {},
   "outputs": [
    {
     "data": {
      "text/plain": [
       "'Daft Punk'"
      ]
     },
     "execution_count": 65,
     "metadata": {},
     "output_type": "execute_result"
    }
   ],
   "source": [
    "artist= document.find('div', attrs={'class':'lyricsh'}).find('b').text.strip().replace(' Lyrics', '')\n",
    "artist"
   ]
  },
  {
   "cell_type": "code",
   "execution_count": 113,
   "id": "6169e9ea-ba51-4255-9309-f077ea4996dc",
   "metadata": {},
   "outputs": [],
   "source": [
    "song_url= [\n",
    "    'https://www.azlyrics.com/lyrics/nirvana/comeasyouare.html',\n",
    "    'https://www.azlyrics.com/lyrics/nirvana/somethingintheway112561.html',\n",
    "    'https://www.azlyrics.com/lyrics/nirvana/lithium.html',\n",
    "    'https://www.azlyrics.com/lyrics/nirvana/papercuts.html',\n",
    "    'https://www.azlyrics.com/lyrics/nirvana/smellsliketeenspirit.html']\n",
    "df= pd.DataFrame(columns=['artist', 'title', 'lyrics'])"
   ]
  },
  {
   "cell_type": "code",
   "execution_count": 117,
   "id": "441261d8-9dc9-4d35-8bcd-89a758fc575f",
   "metadata": {},
   "outputs": [
    {
     "ename": "AttributeError",
     "evalue": "'NoneType' object has no attribute 'find'",
     "output_type": "error",
     "traceback": [
      "\u001b[1;31m---------------------------------------------------------------------------\u001b[0m",
      "\u001b[1;31mAttributeError\u001b[0m                            Traceback (most recent call last)",
      "Input \u001b[1;32mIn [117]\u001b[0m, in \u001b[0;36m<cell line: 10>\u001b[1;34m()\u001b[0m\n\u001b[0;32m      8\u001b[0m     \u001b[38;5;28;01mreturn\u001b[39;00m (artist, title, lyrics)\n\u001b[0;32m     10\u001b[0m \u001b[38;5;28;01mfor\u001b[39;00m url \u001b[38;5;129;01min\u001b[39;00m song_url:\n\u001b[1;32m---> 11\u001b[0m     artist, title, lyrics\u001b[38;5;241m=\u001b[39m \u001b[43mget_song_data\u001b[49m\u001b[43m(\u001b[49m\u001b[43murl\u001b[49m\u001b[43m)\u001b[49m\n\u001b[0;32m     12\u001b[0m     df \u001b[38;5;241m=\u001b[39m df\u001b[38;5;241m.\u001b[39mappend({\u001b[38;5;124m'\u001b[39m\u001b[38;5;124martist\u001b[39m\u001b[38;5;124m'\u001b[39m: artist, \u001b[38;5;124m'\u001b[39m\u001b[38;5;124mtitle\u001b[39m\u001b[38;5;124m'\u001b[39m: title, \u001b[38;5;124m'\u001b[39m\u001b[38;5;124mlyrics\u001b[39m\u001b[38;5;124m'\u001b[39m: lyrics}, ignore_index\u001b[38;5;241m=\u001b[39m\u001b[38;5;28;01mTrue\u001b[39;00m)\n\u001b[0;32m     14\u001b[0m df\n",
      "Input \u001b[1;32mIn [117]\u001b[0m, in \u001b[0;36mget_song_data\u001b[1;34m(url)\u001b[0m\n\u001b[0;32m      3\u001b[0m html_string \u001b[38;5;241m=\u001b[39m response\u001b[38;5;241m.\u001b[39mtext\n\u001b[0;32m      4\u001b[0m document \u001b[38;5;241m=\u001b[39m BeautifulSoup(html_string, \u001b[38;5;124m'\u001b[39m\u001b[38;5;124mhtml.parser\u001b[39m\u001b[38;5;124m'\u001b[39m)\n\u001b[1;32m----> 5\u001b[0m lyrics \u001b[38;5;241m=\u001b[39m \u001b[43mdocument\u001b[49m\u001b[38;5;241;43m.\u001b[39;49m\u001b[43mfind\u001b[49m\u001b[43m(\u001b[49m\u001b[38;5;124;43m\"\u001b[39;49m\u001b[38;5;124;43mdiv\u001b[39;49m\u001b[38;5;124;43m\"\u001b[39;49m\u001b[43m,\u001b[49m\u001b[43m \u001b[49m\u001b[43mattrs\u001b[49m\u001b[38;5;241;43m=\u001b[39;49m\u001b[43m{\u001b[49m\u001b[38;5;124;43m'\u001b[39;49m\u001b[38;5;124;43mclass\u001b[39;49m\u001b[38;5;124;43m'\u001b[39;49m\u001b[43m:\u001b[49m\u001b[43m \u001b[49m\u001b[38;5;124;43m'\u001b[39;49m\u001b[38;5;124;43mcol-xs-12 col-lg-8 text-center\u001b[39;49m\u001b[38;5;124;43m'\u001b[39;49m\u001b[43m}\u001b[49m\u001b[43m)\u001b[49m\u001b[38;5;241;43m.\u001b[39;49m\u001b[43mfind\u001b[49m(\u001b[38;5;124m'\u001b[39m\u001b[38;5;124mdiv\u001b[39m\u001b[38;5;124m'\u001b[39m, attrs\u001b[38;5;241m=\u001b[39m{\u001b[38;5;124m'\u001b[39m\u001b[38;5;124mclass\u001b[39m\u001b[38;5;124m'\u001b[39m: \u001b[38;5;28;01mNone\u001b[39;00m})\u001b[38;5;241m.\u001b[39mtext\u001b[38;5;241m.\u001b[39mstrip()\u001b[38;5;241m.\u001b[39mreplace(\u001b[38;5;124m\"\u001b[39m\u001b[38;5;130;01m\\n\u001b[39;00m\u001b[38;5;124m\"\u001b[39m, \u001b[38;5;124m\"\u001b[39m\u001b[38;5;124m \u001b[39m\u001b[38;5;124m\"\u001b[39m)\n\u001b[0;32m      6\u001b[0m artist \u001b[38;5;241m=\u001b[39m document\u001b[38;5;241m.\u001b[39mfind(\u001b[38;5;124m'\u001b[39m\u001b[38;5;124mdiv\u001b[39m\u001b[38;5;124m'\u001b[39m, attrs\u001b[38;5;241m=\u001b[39m{\u001b[38;5;124m'\u001b[39m\u001b[38;5;124mclass\u001b[39m\u001b[38;5;124m'\u001b[39m:\u001b[38;5;124m'\u001b[39m\u001b[38;5;124mlyricsh\u001b[39m\u001b[38;5;124m'\u001b[39m})\u001b[38;5;241m.\u001b[39mfind(\u001b[38;5;124m'\u001b[39m\u001b[38;5;124mb\u001b[39m\u001b[38;5;124m'\u001b[39m)\u001b[38;5;241m.\u001b[39mtext\u001b[38;5;241m.\u001b[39mstrip()\u001b[38;5;241m.\u001b[39mreplace(\u001b[38;5;124m'\u001b[39m\u001b[38;5;124m Lyrics\u001b[39m\u001b[38;5;124m'\u001b[39m, \u001b[38;5;124m'\u001b[39m\u001b[38;5;124m'\u001b[39m)\n\u001b[0;32m      7\u001b[0m title\u001b[38;5;241m=\u001b[39m document\u001b[38;5;241m.\u001b[39mfind(\u001b[38;5;124m'\u001b[39m\u001b[38;5;124mdiv\u001b[39m\u001b[38;5;124m'\u001b[39m, attrs\u001b[38;5;241m=\u001b[39m{\u001b[38;5;124m'\u001b[39m\u001b[38;5;124mclass\u001b[39m\u001b[38;5;124m'\u001b[39m:\u001b[38;5;124m'\u001b[39m\u001b[38;5;124mcol-xs-12 col-lg-8 text-center\u001b[39m\u001b[38;5;124m'\u001b[39m})\u001b[38;5;241m.\u001b[39mfind(\u001b[38;5;124m'\u001b[39m\u001b[38;5;124mh1\u001b[39m\u001b[38;5;124m'\u001b[39m)\u001b[38;5;241m.\u001b[39mtext\u001b[38;5;241m.\u001b[39mstrip()\u001b[38;5;241m.\u001b[39mreplace(\u001b[38;5;124m'\u001b[39m\u001b[38;5;124m\"\u001b[39m\u001b[38;5;124m lyrics\u001b[39m\u001b[38;5;124m'\u001b[39m, \u001b[38;5;124m'\u001b[39m\u001b[38;5;124m'\u001b[39m)\u001b[38;5;241m.\u001b[39mreplace(\u001b[38;5;124m'\u001b[39m\u001b[38;5;124m\"\u001b[39m\u001b[38;5;124m'\u001b[39m, \u001b[38;5;124m'\u001b[39m\u001b[38;5;124m'\u001b[39m)\n",
      "\u001b[1;31mAttributeError\u001b[0m: 'NoneType' object has no attribute 'find'"
     ]
    }
   ],
   "source": [
    "def get_song_data(url):\n",
    "    response = requests.get(url)\n",
    "    html_string = response.text\n",
    "    document = BeautifulSoup(html_string, 'html.parser')\n",
    "    lyrics = document.find(\"div\", attrs={'class': 'col-xs-12 col-lg-8 text-center'}).find('div', attrs={'class': None}).text.strip().replace(\"\\n\", \" \")\n",
    "    artist = document.find('div', attrs={'class':'lyricsh'}).find('b').text.strip().replace(' Lyrics', '')\n",
    "    title= document.find('div', attrs={'class':'col-xs-12 col-lg-8 text-center'}).find('h1').text.strip().replace('\" lyrics', '').replace('\"', '')\n",
    "    return (artist, title, lyrics)\n",
    "\n",
    "for url in song_url:\n",
    "    artist, title, lyrics= get_song_data(url)\n",
    "    df = df.append({'artist': artist, 'title': title, 'lyrics': lyrics}, ignore_index=True)\n",
    "\n",
    "df"
   ]
  },
  {
   "cell_type": "code",
   "execution_count": null,
   "id": "4f70f540-56e4-437e-8c41-26986ec65c32",
   "metadata": {},
   "outputs": [],
   "source": []
  }
 ],
 "metadata": {
  "kernelspec": {
   "display_name": "Python 3 (ipykernel)",
   "language": "python",
   "name": "python3"
  },
  "language_info": {
   "codemirror_mode": {
    "name": "ipython",
    "version": 3
   },
   "file_extension": ".py",
   "mimetype": "text/x-python",
   "name": "python",
   "nbconvert_exporter": "python",
   "pygments_lexer": "ipython3",
   "version": "3.9.12"
  }
 },
 "nbformat": 4,
 "nbformat_minor": 5
}
